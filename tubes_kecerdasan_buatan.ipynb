{
  "nbformat": 4,
  "nbformat_minor": 0,
  "metadata": {
    "colab": {
      "name": "tubes_kecerdasan_buatan.ipynb",
      "provenance": [],
      "collapsed_sections": [],
      "authorship_tag": "ABX9TyOBcfKv1odgDXIIhTtOXAqU",
      "include_colab_link": true
    },
    "kernelspec": {
      "name": "python3",
      "display_name": "Python 3"
    },
    "language_info": {
      "name": "python"
    }
  },
  "cells": [
    {
      "cell_type": "markdown",
      "metadata": {
        "id": "view-in-github",
        "colab_type": "text"
      },
      "source": [
        "<a href=\"https://colab.research.google.com/github/noersy/cvison_riced/blob/master/tubes_kecerdasan_buatan.ipynb\" target=\"_parent\"><img src=\"https://colab.research.google.com/assets/colab-badge.svg\" alt=\"Open In Colab\"/></a>"
      ]
    },
    {
      "cell_type": "code",
      "execution_count": 20,
      "metadata": {
        "id": "M86GLZ_4fU87",
        "colab": {
          "base_uri": "https://localhost:8080/"
        },
        "outputId": "17389a16-1002-45e7-a6e7-ac33fa622276"
      },
      "outputs": [
        {
          "output_type": "stream",
          "name": "stdout",
          "text": [
            "Cloning into 'cnn_tubes'...\n",
            "remote: Enumerating objects: 3675, done.\u001b[K\n",
            "remote: Counting objects:   6% (1/15)\u001b[K\rremote: Counting objects:  13% (2/15)\u001b[K\rremote: Counting objects:  20% (3/15)\u001b[K\rremote: Counting objects:  26% (4/15)\u001b[K\rremote: Counting objects:  33% (5/15)\u001b[K\rremote: Counting objects:  40% (6/15)\u001b[K\rremote: Counting objects:  46% (7/15)\u001b[K\rremote: Counting objects:  53% (8/15)\u001b[K\rremote: Counting objects:  60% (9/15)\u001b[K\rremote: Counting objects:  66% (10/15)\u001b[K\rremote: Counting objects:  73% (11/15)\u001b[K\rremote: Counting objects:  80% (12/15)\u001b[K\rremote: Counting objects:  86% (13/15)\u001b[K\rremote: Counting objects:  93% (14/15)\u001b[K\rremote: Counting objects: 100% (15/15)\u001b[K\rremote: Counting objects: 100% (15/15), done.\u001b[K\n",
            "remote: Compressing objects: 100% (12/12), done.\u001b[K\n",
            "remote: Total 3675 (delta 1), reused 15 (delta 1), pack-reused 3660\u001b[K\n",
            "Receiving objects: 100% (3675/3675), 162.68 MiB | 39.41 MiB/s, done.\n",
            "Resolving deltas: 100% (31/31), done.\n",
            "Checking out files: 100% (4754/4754), done.\n"
          ]
        }
      ],
      "source": [
        "#github repository sync in google colab\n",
        "import os\n",
        "\n",
        "!rm -rf '/content/cnn_tubes'\n",
        "\n",
        "try:\n",
        "  # Colab only\n",
        "  !git clone https://github.com/noersy/cnn_tubes.git\n",
        "  os.chdir('/content')      \n",
        "except Exception:\n",
        "  pass"
      ]
    },
    {
      "cell_type": "code",
      "source": [
        "# Definisikan path untuk data daun_nangka dan data daun_sirih\n",
        "base_dir = '/content/cnn_tubes'\n",
        "\n",
        "train_dir = os.path.join(base_dir, 'train')\n",
        "validation_dir = os.path.join(base_dir, 'validasi')"
      ],
      "metadata": {
        "id": "Hxd6nzPPmiY1"
      },
      "execution_count": 21,
      "outputs": []
    },
    {
      "cell_type": "code",
      "source": [
        "# # Tampilkan 8 image per kelas dengan ukuran 4x4 \n",
        "\n",
        "# %matplotlib inline\n",
        "\n",
        "# import matplotlib.pyplot as plt\n",
        "# import matplotlib.image as mpimg\n",
        "\n",
        "# nrows = 5\n",
        "# ncols = 5\n",
        "\n",
        "# pic_index = 0\n",
        "\n",
        "# fig = plt.gcf()\n",
        "# fig.set_size_inches(ncols * 4, nrows * 4)\n",
        "\n",
        "# pic_index += 8\n",
        "# train_pix = [os.path.join(train_dir, fname) \n",
        "#                 for fname in os.listdir(train_dir)[pic_index-8:pic_index]]\n",
        "# validation_pix = [os.path.join(validation_dir, fname) \n",
        "#                 for fname in os.listdir(validation_dir)[pic_index-8:pic_index]]\n",
        "\n",
        "# for i, img_path in enumerate(train_pix+validation_pix):\n",
        "#   # Set up subplot; subplot indices start at 1\n",
        "#   sp = plt.subplot(nrows, ncols, i + 1)\n",
        "#   sp.axis('Off') # Don't show axes (or gridlines)\n",
        "\n",
        "#   img = mpimg.imread(img_path)\n",
        "#   plt.imshow(img)\n",
        "\n",
        "# plt.show()"
      ],
      "metadata": {
        "id": "-Y-2W6R4vGGZ"
      },
      "execution_count": 22,
      "outputs": []
    },
    {
      "cell_type": "code",
      "source": [
        "import cv2\n",
        "import numpy as np"
      ],
      "metadata": {
        "id": "SSjnzDCVnMxr"
      },
      "execution_count": 23,
      "outputs": []
    },
    {
      "cell_type": "code",
      "source": [
        "# Gather data train\n",
        "train_data = []\n",
        "train_label = []\n",
        "for r, d, f in os.walk(train_dir):\n",
        "    for file in f:\n",
        "        if \".jpg\" or \".JPG\" in file:\n",
        "            imagePath = os.path.join(r, file)\n",
        "            image = cv2.imread(imagePath)\n",
        "            image = cv2.resize(image, (150,150))\n",
        "            train_data.append(image)\n",
        "            label = imagePath.split(os.path.sep)[-2]\n",
        "            train_label.append(label)\n",
        "\n",
        "train_data = np.array(train_data)\n",
        "train_label = np.array(train_label)"
      ],
      "metadata": {
        "id": "th6ASCkQnDdt"
      },
      "execution_count": 24,
      "outputs": []
    },
    {
      "cell_type": "code",
      "source": [
        "# Gather data validation\n",
        "val_data = []\n",
        "val_label = []\n",
        "for r, d, f in os.walk(validation_dir):\n",
        "    for file in f:\n",
        "        if \".jpg\" or \".JPG\" in file:\n",
        "            imagePath = os.path.join(r, file)\n",
        "            image = cv2.imread(imagePath)\n",
        "            image = cv2.resize(image, (150,150))\n",
        "            val_data.append(image)\n",
        "            label = imagePath.split(os.path.sep)[-2]\n",
        "            val_label.append(label)\n",
        "\n",
        "val_data = np.array(val_data)\n",
        "val_label = np.array(val_label)"
      ],
      "metadata": {
        "id": "IIs0zc8Mnoja"
      },
      "execution_count": 25,
      "outputs": []
    },
    {
      "cell_type": "code",
      "source": [
        "# Tampilkan shape dari data train dan data validation\n",
        "print(\"Train Data = \", train_data.shape)\n",
        "print(\"Train Label = \", train_label.shape)\n",
        "print(\"Validation Data = \", val_data.shape)\n",
        "print(\"Validation Label = \", val_label.shape)"
      ],
      "metadata": {
        "colab": {
          "base_uri": "https://localhost:8080/"
        },
        "id": "xmtQgrfvoQHx",
        "outputId": "29c8e383-f209-4570-8e6d-09b35f3929bf"
      },
      "execution_count": 26,
      "outputs": [
        {
          "output_type": "stream",
          "name": "stdout",
          "text": [
            "Train Data =  (4624, 150, 150, 3)\n",
            "Train Label =  (4624,)\n",
            "Validation Data =  (120, 150, 150, 3)\n",
            "Validation Label =  (120,)\n"
          ]
        }
      ]
    },
    {
      "cell_type": "code",
      "source": [
        "# Normalisasi dataset\n",
        "print(\"Data sebelum di-normalisasi \", train_data[0][0][0])\n",
        "\n",
        "x_train = train_data.astype('float32') / 255.0\n",
        "x_val = val_data.astype('float32') / 255.0\n",
        "print(\"Data setelah di-normalisasi \", x_train[0][0][0])"
      ],
      "metadata": {
        "colab": {
          "base_uri": "https://localhost:8080/"
        },
        "id": "4JPIenADp9sJ",
        "outputId": "f72bcea0-e644-442f-f2e7-bf83551e7e70"
      },
      "execution_count": 27,
      "outputs": [
        {
          "output_type": "stream",
          "name": "stdout",
          "text": [
            "Data sebelum di-normalisasi  [212 204 205]\n",
            "Data setelah di-normalisasi  [0.83137256 0.8        0.8039216 ]\n"
          ]
        }
      ]
    },
    {
      "cell_type": "code",
      "source": [
        "# Transformasi label encoder\n",
        "from sklearn.preprocessing import LabelEncoder\n",
        "\n",
        "print(\"Label sebelum di-encoder \", train_label[38:42])\n",
        "\n",
        "lb = LabelEncoder()\n",
        "y_train = lb.fit_transform(train_label)\n",
        "y_val = lb.fit_transform(val_label)\n",
        "\n",
        "print(\"Label setelah di-encoder \", y_train[38:42])"
      ],
      "metadata": {
        "colab": {
          "base_uri": "https://localhost:8080/"
        },
        "id": "KHTXwhgfqpu3",
        "outputId": "3f8d9738-15bb-455c-9863-ad39ca151aa9"
      },
      "execution_count": 28,
      "outputs": [
        {
          "output_type": "stream",
          "name": "stdout",
          "text": [
            "Label sebelum di-encoder  ['Blast' 'Blast' 'Blast' 'Blast']\n",
            "Label setelah di-encoder  [1 1 1 1]\n"
          ]
        }
      ]
    },
    {
      "cell_type": "code",
      "source": [
        "from tensorflow.keras.models import Sequential\n",
        "from tensorflow.keras.layers import InputLayer, Dense, Conv2D, MaxPool2D, Flatten"
      ],
      "metadata": {
        "id": "hi0LKUILsbLl"
      },
      "execution_count": 29,
      "outputs": []
    },
    {
      "cell_type": "code",
      "source": [
        "# Feature Extraction Layer\n",
        "model = Sequential()\n",
        "\n",
        "model.add(InputLayer(input_shape=[150,150,3]))\n",
        "model.add(Conv2D(filters=16, kernel_size=3, strides=1, padding='same', activation='relu'))\n",
        "model.add(MaxPool2D(pool_size=2, padding='same'))\n",
        "model.add(Conv2D(filters=32, kernel_size=3, strides=1, padding='same', activation='relu'))\n",
        "model.add(MaxPool2D(pool_size=2, padding='same'))\n",
        "model.add(Conv2D(filters=64, kernel_size=3, strides=1, padding='same', activation='relu'))\n",
        "model.add(MaxPool2D(pool_size=2, padding='same'))\n",
        "model.add(Flatten())"
      ],
      "metadata": {
        "id": "VyF9G-nlsiZh"
      },
      "execution_count": 30,
      "outputs": []
    },
    {
      "cell_type": "code",
      "source": [
        "# Fully Connected Layer\n",
        "model.add(Dense(128, activation='relu'))\n",
        "model.add(Dense(1, activation='sigmoid'))"
      ],
      "metadata": {
        "id": "0uLetT9CspVA"
      },
      "execution_count": 31,
      "outputs": []
    },
    {
      "cell_type": "code",
      "source": [
        "# Print model summary\n",
        "print(model.summary())"
      ],
      "metadata": {
        "colab": {
          "base_uri": "https://localhost:8080/"
        },
        "id": "I1jfIhOJsriC",
        "outputId": "dc68c216-eaef-49d9-9757-5663f53ebbe8"
      },
      "execution_count": 32,
      "outputs": [
        {
          "output_type": "stream",
          "name": "stdout",
          "text": [
            "Model: \"sequential_1\"\n",
            "_________________________________________________________________\n",
            " Layer (type)                Output Shape              Param #   \n",
            "=================================================================\n",
            " conv2d_3 (Conv2D)           (None, 150, 150, 16)      448       \n",
            "                                                                 \n",
            " max_pooling2d_3 (MaxPooling  (None, 75, 75, 16)       0         \n",
            " 2D)                                                             \n",
            "                                                                 \n",
            " conv2d_4 (Conv2D)           (None, 75, 75, 32)        4640      \n",
            "                                                                 \n",
            " max_pooling2d_4 (MaxPooling  (None, 38, 38, 32)       0         \n",
            " 2D)                                                             \n",
            "                                                                 \n",
            " conv2d_5 (Conv2D)           (None, 38, 38, 64)        18496     \n",
            "                                                                 \n",
            " max_pooling2d_5 (MaxPooling  (None, 19, 19, 64)       0         \n",
            " 2D)                                                             \n",
            "                                                                 \n",
            " flatten_1 (Flatten)         (None, 23104)             0         \n",
            "                                                                 \n",
            " dense_2 (Dense)             (None, 128)               2957440   \n",
            "                                                                 \n",
            " dense_3 (Dense)             (None, 1)                 129       \n",
            "                                                                 \n",
            "=================================================================\n",
            "Total params: 2,981,153\n",
            "Trainable params: 2,981,153\n",
            "Non-trainable params: 0\n",
            "_________________________________________________________________\n",
            "None\n"
          ]
        }
      ]
    },
    {
      "cell_type": "code",
      "source": [
        "# Compile model\n",
        "from tensorflow.keras.optimizers import Adam\n",
        "\n",
        "model.compile(optimizer=Adam(lr=0.001), \n",
        "              loss='binary_crossentropy', \n",
        "              metrics=['acc'])"
      ],
      "metadata": {
        "colab": {
          "base_uri": "https://localhost:8080/"
        },
        "id": "iuFcdzxasxnz",
        "outputId": "cf7a878d-a391-405f-d33d-1309e3d53599"
      },
      "execution_count": 33,
      "outputs": [
        {
          "output_type": "stream",
          "name": "stderr",
          "text": [
            "/usr/local/lib/python3.7/dist-packages/keras/optimizer_v2/adam.py:105: UserWarning: The `lr` argument is deprecated, use `learning_rate` instead.\n",
            "  super(Adam, self).__init__(name, **kwargs)\n"
          ]
        }
      ]
    },
    {
      "cell_type": "code",
      "source": [
        "H = model.fit(x_train, y_train, batch_size=30, epochs=15, validation_data=(x_val, y_val))"
      ],
      "metadata": {
        "colab": {
          "base_uri": "https://localhost:8080/"
        },
        "id": "UM1H4DUDs3pZ",
        "outputId": "5852aa88-3b67-4c0f-f3cf-3ed3015eb960"
      },
      "execution_count": 34,
      "outputs": [
        {
          "output_type": "stream",
          "name": "stdout",
          "text": [
            "Epoch 1/15\n",
            "155/155 [==============================] - 97s 622ms/step - loss: -30283.1875 - acc: 0.3272 - val_loss: 6429.1831 - val_acc: 0.3167\n",
            "Epoch 2/15\n",
            "155/155 [==============================] - 96s 620ms/step - loss: -2667878.5000 - acc: 0.3235 - val_loss: 1000381.8750 - val_acc: 0.3333\n",
            "Epoch 3/15\n",
            "155/155 [==============================] - 96s 621ms/step - loss: -48862176.0000 - acc: 0.3214 - val_loss: 2511069.7500 - val_acc: 0.3167\n",
            "Epoch 4/15\n",
            "155/155 [==============================] - 96s 617ms/step - loss: -356513824.0000 - acc: 0.3205 - val_loss: -3891882.7500 - val_acc: 0.3083\n",
            "Epoch 5/15\n",
            "155/155 [==============================] - 96s 618ms/step - loss: -1347342976.0000 - acc: 0.3183 - val_loss: -32412468.0000 - val_acc: 0.3000\n",
            "Epoch 6/15\n",
            "155/155 [==============================] - 95s 616ms/step - loss: -3894380544.0000 - acc: 0.3246 - val_loss: 47129124.0000 - val_acc: 0.3083\n",
            "Epoch 7/15\n",
            "155/155 [==============================] - 95s 613ms/step - loss: -9450297344.0000 - acc: 0.3173 - val_loss: 428450336.0000 - val_acc: 0.3083\n",
            "Epoch 8/15\n",
            "155/155 [==============================] - 95s 613ms/step - loss: -19486627840.0000 - acc: 0.3179 - val_loss: 409578144.0000 - val_acc: 0.3083\n",
            "Epoch 9/15\n",
            "155/155 [==============================] - 95s 611ms/step - loss: -35865313280.0000 - acc: 0.3177 - val_loss: -603923008.0000 - val_acc: 0.3083\n",
            "Epoch 10/15\n",
            "155/155 [==============================] - 95s 611ms/step - loss: -60766928896.0000 - acc: 0.3186 - val_loss: -1087958784.0000 - val_acc: 0.3083\n",
            "Epoch 11/15\n",
            "155/155 [==============================] - 95s 611ms/step - loss: -96811106304.0000 - acc: 0.3192 - val_loss: 1279192832.0000 - val_acc: 0.3083\n",
            "Epoch 12/15\n",
            "155/155 [==============================] - 94s 610ms/step - loss: -149121925120.0000 - acc: 0.3199 - val_loss: 317351520.0000 - val_acc: 0.3083\n",
            "Epoch 13/15\n",
            "155/155 [==============================] - 95s 612ms/step - loss: -219613839360.0000 - acc: 0.3175 - val_loss: 1290797056.0000 - val_acc: 0.3083\n",
            "Epoch 14/15\n",
            "155/155 [==============================] - 94s 609ms/step - loss: -313683640320.0000 - acc: 0.3162 - val_loss: -3112523008.0000 - val_acc: 0.3083\n",
            "Epoch 15/15\n",
            "155/155 [==============================] - 94s 608ms/step - loss: -435210289152.0000 - acc: 0.3216 - val_loss: 3971866112.0000 - val_acc: 0.3083\n"
          ]
        }
      ]
    },
    {
      "cell_type": "code",
      "source": [
        "%matplotlib inline\n",
        "\n",
        "import matplotlib.pyplot as plt\n",
        "\n",
        "plt.style.use(\"ggplot\")\n",
        "plt.figure()\n",
        "plt.plot(np.arange(0, 15), H.history[\"loss\"], label=\"train_loss\")\n",
        "plt.plot(np.arange(0, 15), H.history[\"val_loss\"], label=\"val_loss\")\n",
        "plt.title(\"Loss Plot\")\n",
        "plt.xlabel(\"Epoch #\")\n",
        "plt.ylabel(\"Loss\")\n",
        "plt.legend()\n",
        "plt.show()"
      ],
      "metadata": {
        "colab": {
          "base_uri": "https://localhost:8080/",
          "height": 299
        },
        "id": "OfCCt41DVnI5",
        "outputId": "45b55d06-ab25-43d3-a8df-21f08e222335"
      },
      "execution_count": 35,
      "outputs": [
        {
          "output_type": "display_data",
          "data": {
            "image/png": "[encoded data removed]",
            "text/plain": [
              "<Figure size 432x288 with 1 Axes>"
            ]
          },
          "metadata": {}
        }
      ]
    },
    {
      "cell_type": "code",
      "source": [
        "plt.style.use(\"ggplot\")\n",
        "plt.figure()\n",
        "plt.plot(np.arange(0, 15), H.history[\"acc\"], label=\"train_acc\")\n",
        "plt.plot(np.arange(0, 15), H.history[\"val_acc\"], label=\"val_acc\")\n",
        "plt.title(\"Accuracy Plot\")\n",
        "plt.xlabel(\"Epoch #\")\n",
        "plt.ylabel(\"Acc\")\n",
        "plt.legend()\n",
        "plt.show()"
      ],
      "metadata": {
        "colab": {
          "base_uri": "https://localhost:8080/",
          "height": 299
        },
        "id": "pdbGv_IzWnoc",
        "outputId": "81cef417-d219-488d-f78c-7a7c57dbc9f0"
      },
      "execution_count": 36,
      "outputs": [
        {
          "output_type": "display_data",
          "data": {
            "image/png": "[encoded data removed]",
            "text/plain": [
              "<Figure size 432x288 with 1 Axes>"
            ]
          },
          "metadata": {}
        }
      ]
    },
    {
      "cell_type": "code",
      "source": [
        "from sklearn.metrics import classification_report\n",
        "\n",
        "pred = model.predict(x_val)\n",
        "labels = (pred > 0.5).astype(np.int)\n",
        "\n",
        "print(classification_report(y_val, labels))"
      ],
      "metadata": {
        "colab": {
          "base_uri": "https://localhost:8080/"
        },
        "id": "a7TDZIPSXIMQ",
        "outputId": "d51bbe1b-f385-40b7-f3eb-bf36c24815ac"
      },
      "execution_count": 37,
      "outputs": [
        {
          "output_type": "stream",
          "name": "stdout",
          "text": [
            "              precision    recall  f1-score   support\n",
            "\n",
            "           0       0.00      0.00      0.00        40\n",
            "           1       0.32      0.93      0.47        40\n",
            "           2       0.00      0.00      0.00        40\n",
            "\n",
            "    accuracy                           0.31       120\n",
            "   macro avg       0.11      0.31      0.16       120\n",
            "weighted avg       0.11      0.31      0.16       120\n",
            "\n"
          ]
        },
        {
          "output_type": "stream",
          "name": "stderr",
          "text": [
            "/usr/local/lib/python3.7/dist-packages/sklearn/metrics/_classification.py:1318: UndefinedMetricWarning: Precision and F-score are ill-defined and being set to 0.0 in labels with no predicted samples. Use `zero_division` parameter to control this behavior.\n",
            "  _warn_prf(average, modifier, msg_start, len(result))\n",
            "/usr/local/lib/python3.7/dist-packages/sklearn/metrics/_classification.py:1318: UndefinedMetricWarning: Precision and F-score are ill-defined and being set to 0.0 in labels with no predicted samples. Use `zero_division` parameter to control this behavior.\n",
            "  _warn_prf(average, modifier, msg_start, len(result))\n",
            "/usr/local/lib/python3.7/dist-packages/sklearn/metrics/_classification.py:1318: UndefinedMetricWarning: Precision and F-score are ill-defined and being set to 0.0 in labels with no predicted samples. Use `zero_division` parameter to control this behavior.\n",
            "  _warn_prf(average, modifier, msg_start, len(result))\n"
          ]
        }
      ]
    }
  ]
}